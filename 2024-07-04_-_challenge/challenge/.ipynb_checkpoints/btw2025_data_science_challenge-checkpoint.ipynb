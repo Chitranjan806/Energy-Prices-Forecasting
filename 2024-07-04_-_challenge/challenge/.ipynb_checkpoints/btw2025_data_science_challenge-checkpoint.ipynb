{
 "cells": [
  {
   "cell_type": "markdown",
   "metadata": {},
   "source": [
    "# BTW 2025\n",
    "<div style=\"position: relative;\">\n",
    "    <div style=\"position: absolute; top: -45px; right: 10px; padding: 5px; background-color: transparent; font-size: 20px; text-align: right;\">\n",
    "        <span>Version: June 27, 2024</span><br/>\n",
    "        <span style=\"font-size: 8px; text-align: right;\">Updates &amp; Additional Resources: <a href=\"https://btw2025.gi.de/data-science-challenge\" target=\"_blank\">https://btw2025.gi.de/data-science-challenge</a></span>\n",
    "    </div>\n",
    "</div>\n",
    "\n",
    "## Data Science Challenge: Predicting Energy Prices\n",
    "<span style=\"font-weight: bold; text-decoration: underline;\">Submission Deadline: February 17 2025, 10:00 UTC (12:00 GMT)</span>\n",
    "\n",
    "<span style=\"font-weight: bold; \">Submitted by:<br/> \n",
    "<span style=\"color: red;\">&lt;your names here&gt;</span><br/>\n",
    "**<span style=\"color: red;\">&lt;your affiliation here&gt;</span>**<br/>\n",
    "\n",
    "---"
   ]
  },
  {
   "cell_type": "markdown",
   "metadata": {},
   "source": [
    "# Introduction\n",
    "\n",
    "Day-ahead prices are the prices set for electricity delivery on the next day, determined through a daily auction process based on anticipated demand and supply. These prices provide a forecast that helps producers and consumers plan their generation and consumption, reflecting expected market conditions. Predicting these prices is crucial for energy companies and traders to optimize their operations, manage risks, and improve market efficiency.\n",
    "\n",
    "As the goal of the upcoming BTW 2025 Data Science Challenge, you will build a model to predict hourly day-ahead energy prices for Germany on **February 18, 2025** as reported by the <a href=\"https://www.smard.de/en/marktdaten?marketDataAttributes=%7B%22resolution%22:%22hour%22,%22from%22:1710716400000,%22to%22:1710802799999,%22moduleIds%22:%5B8004169%5D,%22selectedCategory%22:null,%22activeChart%22:true,%22style%22:%22color%22,%22categoriesModuleOrder%22:%7B%7D,%22region%22:%22DE%22%7D\">SMARD.de information platform</a> (see Figure 1 below for an example showing data for a different date in the past). \n",
    "\n",
    "<figure>\n",
    "  <img src=\"example_prices.png\" alt=\"Day-Ahead Prices for March 18, 2024\">\n",
    "  <figcaption>Figure 1: Day-Ahead Prices for March 18, 2024.</figcaption>\n",
    "</figure>"
   ]
  },
  {
   "cell_type": "markdown",
   "metadata": {},
   "source": [
    "# Submission Structure &amp; Task Overview\n",
    "\n",
    "The task of creating a submission for the BTW 2025 Data Science Challenge can be partitioned into 4 phases as described below."
   ]
  },
  {
   "cell_type": "markdown",
   "metadata": {},
   "source": [
    "## Phase 1: Gathering Domain Knowledge &amp; Data Sources\n",
    "\n",
    "For building a model that predicts energy prices, you are required to gather not only historical data on energy prices, but also gain a strong understanding of the energy sector's dynamics. This entails collecting data for recent years on energy prices as well as demand and production capacities, weather conditions, supply metrics, and any significant events impacting energy prices. Additionally, acquiring domain knowledge is crucial for understanding the factors that influence energy markets. \n",
    "\n",
    "You can think of your submission as a story about data discovery, where the background information sets the stage for understanding the significance and narrative of your analytical findings. It should therefore include important facts on the domain that you are exploring, for example: \n",
    "\n",
    "- Research the energy market's structure, including how prices are set and the role of different energy sources.\n",
    "- Understand regulatory policies, market reforms, and technological advancements that could impact energy prices.\n",
    "- Review energy sector publications, expert analyses, and videos or other resources.\n",
    "\n",
    "Possible data sources include energy market databases, weather archives, government publications on energy, and news articles reporting on the energy sector. Combining comprehensive data collection with in-depth domain knowledge will lay a solid foundation for developing accurate predictive models and meaningful analysis."
   ]
  },
  {
   "cell_type": "markdown",
   "metadata": {},
   "source": [
    "## Phase 2: Data Cleaning &amp; Exploratory Data Analysis (EDA)\n",
    "\n",
    "Understanding and optimizing the quality of your data is critical for uncovering insights from your data sources and setting the stage for predictive modeling, for example: \n",
    "\n",
    "- Prepare your data for analysis by handling missing values, outliers, and ensuring data quality.\n",
    "- Use statistical summaries and visualizations to understand the basic characteristics of the data. Explore the distribution of key variables and identify patterns or anomalies.\n",
    "- Investigate the relationships between different variables, especially how various factors such as weather conditions, demand, and significant events correlate with energy prices. Utilize statistical methods like Pearson’s or Spearman's rank correlation coefficient to quantify the strength and direction of these relationships. This step is crucial for identifying potential predictors for your models.\n",
    "\n",
    "This initial analysis will not only help you understand the data better but also guide your choice of features for the predictive modeling phase. It's essential to document any insights or interesting findings during this stage, as they could be valuable for the final report and presentation."
   ]
  },
  {
   "cell_type": "markdown",
   "metadata": {},
   "source": [
    "## Phase 3: Visualization &amp; Storytelling\n",
    "\n",
    "Effective presentation is key to interpreting the data and predictive modeling results comprehensively, for example:  \n",
    "\n",
    "- Create visualizations that illustrate the historical trends in energy prices and highlight the key factors influencing price fluctuations.\n",
    "- Use graphs to compare actual vs. predicted energy prices to evaluate the model's performance visually.\n",
    "- Explain your findings by connecting the dots between visuals, forecasts, and insights, making it easier to understand how energy prices change and what that means for people and businesses.\n",
    "\n",
    "Visualizations should not only aim to support the narrative of your findings, but also uncover insights that might not be immediately apparent from the raw data or statistical metrics alone. A well-crafted visualization can make complex data more accessible and insights more compelling."
   ]
  },
  {
   "cell_type": "markdown",
   "metadata": {},
   "source": [
    "## Phase 4: Predictive Modeling\n",
    "\n",
    "To forecast average hourly energy prices on the target date, you may consider various modeling techniques such as:\n",
    "\n",
    "- Linear Regression\n",
    "- Time Series Analysis (e.g. ARIMA)\n",
    "- Machine Learning models (e.g. Random Forest, Neural Networks)\n",
    "\n",
    "Evaluate different models based on reasonable performance metrics (e.g. RMSE, MAE) to select the best-performing model."
   ]
  },
  {
   "cell_type": "markdown",
   "metadata": {},
   "source": [
    "# Evaluation Criteria\n",
    "\n",
    "Your submission will be evaluated based on the following criteria:\n",
    "\n",
    "- **Data Analysis Depth:** The thoroughness of your initial data analysis and insights.\n",
    "- **Presentation:** The clarity and effectiveness of your data visualization and presentation.\n",
    "- **Model Complexity and Justification:** The complexity of your model and the rationale behind choosing it.\n",
    "- **Innovativeness:** The novelty of your approach in predicting energy prices.\n",
    "- **Accuracy of Predictions:** The precision of your model's energy price forecasts."
   ]
  },
  {
   "cell_type": "markdown",
   "metadata": {},
   "source": [
    "# Submission\n",
    "Details on how to submit have not been finalized as of writing. Please check <a href=\"https://btw2025.gi.de/data-science-challenge\" target=\"_blank\">https://btw2025.gi.de/data-science-challenge</a> for updates."
   ]
  }
 ],
 "metadata": {
  "kernelspec": {
   "display_name": "Python 3",
   "language": "python",
   "name": "python3"
  },
  "language_info": {
   "codemirror_mode": {
    "name": "ipython",
    "version": 3
   },
   "file_extension": ".py",
   "mimetype": "text/x-python",
   "name": "python",
   "nbconvert_exporter": "python",
   "pygments_lexer": "ipython3",
   "version": "3.8.3"
  }
 },
 "nbformat": 4,
 "nbformat_minor": 5
}
